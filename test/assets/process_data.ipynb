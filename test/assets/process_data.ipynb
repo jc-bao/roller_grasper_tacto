{
 "cells": [
  {
   "cell_type": "code",
   "execution_count": 1,
   "metadata": {},
   "outputs": [],
   "source": [
    "import dill\n",
    "with open('data_usb.pkl', 'rb') as f:\n",
    "  data = dill.load(f)"
   ]
  },
  {
   "cell_type": "code",
   "execution_count": 10,
   "metadata": {},
   "outputs": [],
   "source": [
    "import numpy as np\n",
    "from copy import deepcopy\n",
    "import matplotlib.pyplot as plt"
   ]
  },
  {
   "cell_type": "markdown",
   "metadata": {},
   "source": [
    "# Crop Data"
   ]
  },
  {
   "cell_type": "code",
   "execution_count": null,
   "metadata": {},
   "outputs": [],
   "source": [
    "old_image_size = data['left_cam'][0].shape\n",
    "new_image_size = [64, 64]\n",
    "y_start = int((old_image_size[0] - new_image_size[0]) / 2)\n",
    "x_start = int((old_image_size[1] - new_image_size[1]) / 2)\n",
    "y_end = int((old_image_size[0] + new_image_size[0]) / 2)\n",
    "x_end = int((old_image_size[1] + new_image_size[1]) / 2)"
   ]
  },
  {
   "cell_type": "code",
   "execution_count": null,
   "metadata": {},
   "outputs": [],
   "source": [
    "from copy import deepcopy\n",
    "data_new = deepcopy(data)"
   ]
  },
  {
   "cell_type": "code",
   "execution_count": null,
   "metadata": {},
   "outputs": [],
   "source": [
    "for i, im in enumerate(data['left_cam']):\n",
    "  data_new['left_cam'][i] = im[y_start:y_end, x_start:x_end]\n",
    "for i, im in enumerate(data['right_cam']):\n",
    "  data_new['right_cam'][i] = im[y_start:y_end, x_start:x_end]\n",
    "print(data_new['left_cam'][0].shape)"
   ]
  },
  {
   "cell_type": "code",
   "execution_count": null,
   "metadata": {},
   "outputs": [],
   "source": [
    "with open('data_new.pkl', 'wb') as f:\n",
    "  dill.dump(data_new, f)"
   ]
  },
  {
   "cell_type": "markdown",
   "metadata": {},
   "source": [
    "# Constraint Height"
   ]
  },
  {
   "cell_type": "code",
   "execution_count": 7,
   "metadata": {},
   "outputs": [],
   "source": [
    "old_image = np.array(data['left_cam'][20])"
   ]
  },
  {
   "cell_type": "code",
   "execution_count": 140,
   "metadata": {},
   "outputs": [],
   "source": [
    "import numpy as np\n",
    "import matplotlib.pyplot as plt\n",
    "max_depth = 0.002"
   ]
  },
  {
   "cell_type": "code",
   "execution_count": null,
   "metadata": {},
   "outputs": [],
   "source": [
    "min_dist = np.min(old_image)\n",
    "max_dist = min_dist + max_depth"
   ]
  },
  {
   "cell_type": "code",
   "execution_count": null,
   "metadata": {},
   "outputs": [],
   "source": [
    "new_image = deepcopy(old_image)\n",
    "new_image[new_image > max_dist] = 0"
   ]
  },
  {
   "cell_type": "code",
   "execution_count": null,
   "metadata": {},
   "outputs": [],
   "source": [
    "plt.imshow(old_image/np.max(old_image))"
   ]
  },
  {
   "cell_type": "code",
   "execution_count": null,
   "metadata": {},
   "outputs": [],
   "source": [
    "plt.imshow(new_image/max_dist)"
   ]
  },
  {
   "cell_type": "code",
   "execution_count": null,
   "metadata": {},
   "outputs": [],
   "source": [
    "data_new = deepcopy(data)\n",
    "for i, im in enumerate(data['left_cam']):\n",
    "  min_dist = np.min(im)\n",
    "  max_dist = min_dist + max_depth\n",
    "  data_new['left_cam'][i][im > max_dist] = 0\n",
    "for i, im in enumerate(data['right_cam']):\n",
    "  min_dist = np.min(im)\n",
    "  max_dist = min_dist + max_depth\n",
    "  data_new['right_cam'][i][im > max_dist] = 0"
   ]
  },
  {
   "cell_type": "code",
   "execution_count": null,
   "metadata": {},
   "outputs": [],
   "source": [
    "with open('data_25664_dep2e-3.pkl', 'wb') as f:\n",
    "  dill.dump(data_new, f)"
   ]
  },
  {
   "cell_type": "markdown",
   "metadata": {},
   "source": [
    "# Constraint With Round Gel"
   ]
  },
  {
   "cell_type": "code",
   "execution_count": 3,
   "metadata": {},
   "outputs": [],
   "source": [
    "old_image = np.array(data['left_cam'][20])\n",
    "min_dist = np.min(old_image)\n",
    "max_depth = 0.002"
   ]
  },
  {
   "cell_type": "code",
   "execution_count": 4,
   "metadata": {},
   "outputs": [
    {
     "name": "stderr",
     "output_type": "stream",
     "text": [
      "/tmp/user/22013/ipykernel_1912247/910239095.py:3: RuntimeWarning: invalid value encountered in sqrt\n",
      "  dist2surface = 0.02 - np.sqrt(0.02**2 - dist2center_x**2 - dist2center_y**2)\n"
     ]
    }
   ],
   "source": [
    "dist2center_x = np.tile((np.arange(64) - 32)/32*0.005, (256, 1)).transpose()\n",
    "dist2center_y = np.tile((np.arange(256) - 128)/128*0.02, (64, 1))\n",
    "dist2surface = 0.02 - np.sqrt(0.02**2 - dist2center_x**2 - dist2center_y**2)\n",
    "max_dist = min_dist + max_depth - dist2surface"
   ]
  },
  {
   "cell_type": "code",
   "execution_count": 8,
   "metadata": {},
   "outputs": [],
   "source": [
    "new_image = deepcopy(old_image)\n",
    "new_image[new_image > max_dist] = 0"
   ]
  },
  {
   "cell_type": "code",
   "execution_count": 11,
   "metadata": {},
   "outputs": [
    {
     "data": {
      "text/plain": [
       "<matplotlib.image.AxesImage at 0x7f2e01801520>"
      ]
     },
     "execution_count": 11,
     "metadata": {},
     "output_type": "execute_result"
    },
    {
     "data": {
      "image/png": "[encoded data removed]",
      "text/plain": [
       "<Figure size 432x288 with 1 Axes>"
      ]
     },
     "metadata": {
      "needs_background": "light"
     },
     "output_type": "display_data"
    }
   ],
   "source": [
    "plt.imshow(old_image/np.max(old_image))"
   ]
  },
  {
   "cell_type": "code",
   "execution_count": 12,
   "metadata": {},
   "outputs": [
    {
     "data": {
      "text/plain": [
       "<matplotlib.image.AxesImage at 0x7f2dff6ed6a0>"
      ]
     },
     "execution_count": 12,
     "metadata": {},
     "output_type": "execute_result"
    },
    {
     "data": {
      "image/png": "[encoded data removed]",
      "text/plain": [
       "<Figure size 432x288 with 1 Axes>"
      ]
     },
     "metadata": {
      "needs_background": "light"
     },
     "output_type": "display_data"
    }
   ],
   "source": [
    "plt.imshow(new_image/max_dist)"
   ]
  },
  {
   "cell_type": "code",
   "execution_count": 13,
   "metadata": {},
   "outputs": [
    {
     "name": "stderr",
     "output_type": "stream",
     "text": [
      "/tmp/user/22013/ipykernel_1912247/2537946086.py:4: RuntimeWarning: invalid value encountered in sqrt\n",
      "  dist2surface = 0.02 - np.sqrt(0.02**2 - dist2center_x**2 - dist2center_y**2)\n"
     ]
    }
   ],
   "source": [
    "data_new = deepcopy(data)\n",
    "dist2center_x = np.tile((np.arange(64) - 32)/32*0.005, (256, 1)).transpose()\n",
    "dist2center_y = np.tile((np.arange(256) - 128)/128*0.02, (64, 1))\n",
    "dist2surface = 0.02 - np.sqrt(0.02**2 - dist2center_x**2 - dist2center_y**2)\n",
    "max_dist_base =  max_depth - dist2surface\n",
    "for i, im in enumerate(data['left_cam']):\n",
    "  min_dist = np.min(im)\n",
    "  max_dist = min_dist + max_dist_base\n",
    "  data_new['left_cam'][i][im > max_dist] = 0\n",
    "for i, im in enumerate(data['right_cam']):\n",
    "  min_dist = np.min(im)\n",
    "  max_dist = min_dist + max_dist_base\n",
    "  data_new['right_cam'][i][im > max_dist] = 0"
   ]
  },
  {
   "cell_type": "code",
   "execution_count": 14,
   "metadata": {},
   "outputs": [],
   "source": [
    "with open('data_usb_rdep2e-3.pkl', 'wb') as f:\n",
    "  dill.dump(data_new, f)"
   ]
  }
 ],
 "metadata": {
  "kernelspec": {
   "display_name": "Python 3.8.13 ('rl')",
   "language": "python",
   "name": "python3"
  },
  "language_info": {
   "codemirror_mode": {
    "name": "ipython",
    "version": 3
   },
   "file_extension": ".py",
   "mimetype": "text/x-python",
   "name": "python",
   "nbconvert_exporter": "python",
   "pygments_lexer": "ipython3",
   "version": "3.9.12"
  },
  "orig_nbformat": 4,
  "vscode": {
   "interpreter": {
    "hash": "bf58728769140bed469c3f1c7517edbf13ffa7b6f4a744745895768c3bf5c554"
   }
  }
 },
 "nbformat": 4,
 "nbformat_minor": 2
}
